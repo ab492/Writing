{
 "cells": [
  {
   "cell_type": "code",
   "execution_count": 1,
   "id": "fc0614af-23fb-466b-b3e9-8e11ca9cb2e2",
   "metadata": {},
   "outputs": [],
   "source": [
    "import pandas as pd\n",
    "import glob\n",
    "\n",
    "csv_files = glob.glob(\"raw_data/*.csv\")\n",
    "\n",
    "\n"
   ]
  },
  {
   "cell_type": "code",
   "execution_count": 2,
   "id": "6a001a81-8f07-4ca0-9741-84ddcc12412b",
   "metadata": {},
   "outputs": [
    {
     "name": "stdout",
     "output_type": "stream",
     "text": [
      "raw_data/midas-open_uk-daily-temperature-obs_dv-202407_greater-london_00697_london-st-jamess-park_qcv-1_1982.csv\n",
      "raw_data/midas-open_uk-daily-temperature-obs_dv-202407_greater-london_00697_london-st-jamess-park_qcv-1_1983.csv\n",
      "raw_data/midas-open_uk-daily-temperature-obs_dv-202407_greater-london_00697_london-st-jamess-park_qcv-1_1981.csv\n",
      "raw_data/midas-open_uk-daily-temperature-obs_dv-202407_greater-london_00697_london-st-jamess-park_qcv-1_1980.csv\n",
      "raw_data/midas-open_uk-daily-temperature-obs_dv-202407_greater-london_00697_london-st-jamess-park_qcv-1_1984.csv\n",
      "raw_data/midas-open_uk-daily-temperature-obs_dv-202407_greater-london_00697_london-st-jamess-park_qcv-1_1978.csv\n",
      "raw_data/midas-open_uk-daily-temperature-obs_dv-202407_greater-london_00697_london-st-jamess-park_qcv-1_1979.csv\n",
      "raw_data/midas-open_uk-daily-temperature-obs_dv-202407_greater-london_00697_london-st-jamess-park_qcv-1_1975.csv\n",
      "raw_data/midas-open_uk-daily-temperature-obs_dv-202407_greater-london_00697_london-st-jamess-park_qcv-1_1977.csv\n",
      "raw_data/midas-open_uk-daily-temperature-obs_dv-202407_greater-london_00697_london-st-jamess-park_qcv-1_1976.csv\n"
     ]
    }
   ],
   "source": [
    "for file in csv_files:\n",
    "    print(file)"
   ]
  },
  {
   "cell_type": "code",
   "execution_count": 3,
   "id": "bd122e61-5ec5-4131-945f-b7ba880640b8",
   "metadata": {},
   "outputs": [],
   "source": [
    "dataframes = []\n",
    "for file in csv_files:\n",
    "    # Load the whole dataset, skip metadata rows (first 91 lines) and convert ob_end_time to datetime.\n",
    "    dataframe = pd.read_csv(\n",
    "        file,\n",
    "        skiprows=91,\n",
    "        parse_dates=False\n",
    "    )\n",
    "    \n",
    "    dataframe['ob_end_time'] = pd.to_datetime(\n",
    "        dataframe['ob_end_time'], errors='coerce'\n",
    "    )\n",
    "\n",
    "    dataframe_july = dataframe[dataframe['ob_end_time'].dt.month == 7]\n",
    "    dataframes.append(dataframe_july)\n",
    "    \n",
    "all_july_data = pd.concat(dataframes)\n",
    "all_july_data.sort_values(by='ob_end_time', inplace=True)"
   ]
  },
  {
   "cell_type": "code",
   "execution_count": null,
   "id": "0fbcf9ce-5989-4b56-937d-f68a70a23b4c",
   "metadata": {},
   "outputs": [],
   "source": []
  }
 ],
 "metadata": {
  "kernelspec": {
   "display_name": "Python (venv)",
   "language": "python",
   "name": "venv"
  },
  "language_info": {
   "codemirror_mode": {
    "name": "ipython",
    "version": 3
   },
   "file_extension": ".py",
   "mimetype": "text/x-python",
   "name": "python",
   "nbconvert_exporter": "python",
   "pygments_lexer": "ipython3",
   "version": "3.13.2"
  }
 },
 "nbformat": 4,
 "nbformat_minor": 5
}
